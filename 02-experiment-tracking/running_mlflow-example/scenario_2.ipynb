{
 "cells": [
  {
   "cell_type": "markdown",
   "metadata": {},
   "source": [
    "Scenario 2: A cross-functional team with one data scientist working on an ML model\n",
    "MLflow setup:\n",
    "\n",
    "tracking server: yes, local server\n",
    "backend store: sqlite database\n",
    "artifacts store: local filesystem\n",
    "The experiments can be explored locally by accessing the local tracking server.\n",
    "\n",
    "To run this example you need to launch the mlflow server locally by running the following command in your terminal:\n",
    "\n",
    "mlflow server --backend-store-uri sqlite:///backend.db"
   ]
  },
  {
   "cell_type": "code",
   "execution_count": 1,
   "metadata": {},
   "outputs": [],
   "source": [
    "import mlflow\n",
    "\n",
    "\n",
    "mlflow.set_tracking_uri(\"http://127.0.0.1:5000\")"
   ]
  },
  {
   "cell_type": "code",
   "execution_count": 7,
   "metadata": {},
   "outputs": [
    {
     "name": "stdout",
     "output_type": "stream",
     "text": [
      "tracking URI: 'http://127.0.0.1:5000'\n"
     ]
    }
   ],
   "source": [
    "print(f\"tracking URI: '{mlflow.get_tracking_uri()}'\")"
   ]
  },
  {
   "cell_type": "code",
   "execution_count": 9,
   "metadata": {},
   "outputs": [
    {
     "data": {
      "text/plain": [
       "[<Experiment: artifact_location='mlflow-artifacts:/0', creation_time=1716559949916, experiment_id='0', last_update_time=1716559949916, lifecycle_stage='active', name='Default', tags={}>]"
      ]
     },
     "execution_count": 9,
     "metadata": {},
     "output_type": "execute_result"
    }
   ],
   "source": [
    "mlflow.search_experiments()"
   ]
  },
  {
   "cell_type": "code",
   "execution_count": 10,
   "metadata": {},
   "outputs": [
    {
     "name": "stderr",
     "output_type": "stream",
     "text": [
      "2024/05/24 16:20:57 INFO mlflow.tracking.fluent: Experiment with name 'my-experiment-1' does not exist. Creating a new experiment.\n"
     ]
    },
    {
     "name": "stdout",
     "output_type": "stream",
     "text": [
      "default artifacts URI: '/Users/rajitsanghvi/Library/CloudStorage/OneDrive-OPEDGMBH/General/01_Github/MLOps/02-experiment-tracking/running_mlflow-example/artifacts_local/1/11d9c9f41cc2454a9077070d564d214a/artifacts'\n"
     ]
    }
   ],
   "source": [
    "from sklearn.linear_model import LogisticRegression\n",
    "from sklearn.datasets import load_iris\n",
    "from sklearn.metrics import accuracy_score\n",
    "\n",
    "mlflow.set_experiment(\"my-experiment-1\")\n",
    "\n",
    "with mlflow.start_run():\n",
    "\n",
    "    X, y = load_iris(return_X_y=True)\n",
    "\n",
    "    params = {\"C\": 0.1, \"random_state\": 42}\n",
    "    mlflow.log_params(params)\n",
    "\n",
    "    lr = LogisticRegression(**params).fit(X, y)\n",
    "    y_pred = lr.predict(X)\n",
    "    mlflow.log_metric(\"accuracy\", accuracy_score(y, y_pred))\n",
    "\n",
    "    mlflow.sklearn.log_model(lr, artifact_path=\"models\")\n",
    "    print(f\"default artifacts URI: '{mlflow.get_artifact_uri()}'\")"
   ]
  },
  {
   "cell_type": "code",
   "execution_count": 11,
   "metadata": {},
   "outputs": [
    {
     "data": {
      "text/plain": [
       "[<Experiment: artifact_location='/Users/rajitsanghvi/Library/CloudStorage/OneDrive-OPEDGMBH/General/01_Github/MLOps/02-experiment-tracking/running_mlflow-example/artifacts_local/1', creation_time=1716560457982, experiment_id='1', last_update_time=1716560457982, lifecycle_stage='active', name='my-experiment-1', tags={}>,\n",
       " <Experiment: artifact_location='mlflow-artifacts:/0', creation_time=1716559949916, experiment_id='0', last_update_time=1716559949916, lifecycle_stage='active', name='Default', tags={}>]"
      ]
     },
     "execution_count": 11,
     "metadata": {},
     "output_type": "execute_result"
    }
   ],
   "source": [
    "mlflow.search_experiments()"
   ]
  },
  {
   "cell_type": "code",
   "execution_count": 14,
   "metadata": {},
   "outputs": [],
   "source": [
    "from mlflow.tracking import MlflowClient\n",
    "\n",
    "client = MlflowClient(\"http://127.0.0.1:5000\")"
   ]
  },
  {
   "cell_type": "code",
   "execution_count": 16,
   "metadata": {},
   "outputs": [
    {
     "data": {
      "text/plain": [
       "[]"
      ]
     },
     "execution_count": 16,
     "metadata": {},
     "output_type": "execute_result"
    }
   ],
   "source": [
    "client.search_registered_models()"
   ]
  },
  {
   "cell_type": "code",
   "execution_count": 26,
   "metadata": {},
   "outputs": [
    {
     "data": {
      "text/plain": [
       "[<Experiment: artifact_location='/Users/rajitsanghvi/Library/CloudStorage/OneDrive-OPEDGMBH/General/01_Github/MLOps/02-experiment-tracking/running_mlflow-example/artifacts_local/1', creation_time=1716560457982, experiment_id='1', last_update_time=1716560457982, lifecycle_stage='active', name='my-experiment-1', tags={}>,\n",
       " <Experiment: artifact_location='mlflow-artifacts:/0', creation_time=1716559949916, experiment_id='0', last_update_time=1716559949916, lifecycle_stage='active', name='Default', tags={}>]"
      ]
     },
     "execution_count": 26,
     "metadata": {},
     "output_type": "execute_result"
    }
   ],
   "source": [
    "client.search_experiments()"
   ]
  },
  {
   "cell_type": "code",
   "execution_count": 37,
   "metadata": {},
   "outputs": [
    {
     "data": {
      "text/plain": [
       "<Run: data=<RunData: metrics={'accuracy': 0.96}, params={'C': '0.1', 'random_state': '42'}, tags={'mlflow.log-model.history': '[{\"run_id\": \"11d9c9f41cc2454a9077070d564d214a\", '\n",
       "                             '\"artifact_path\": \"models\", \"utc_time_created\": '\n",
       "                             '\"2024-05-24 14:20:58.518788\", \"flavors\": '\n",
       "                             '{\"python_function\": {\"model_path\": \"model.pkl\", '\n",
       "                             '\"predict_fn\": \"predict\", \"loader_module\": '\n",
       "                             '\"mlflow.sklearn\", \"python_version\": \"3.9.19\", '\n",
       "                             '\"env\": {\"conda\": \"conda.yaml\", \"virtualenv\": '\n",
       "                             '\"python_env.yaml\"}}, \"sklearn\": '\n",
       "                             '{\"pickled_model\": \"model.pkl\", '\n",
       "                             '\"sklearn_version\": \"1.4.2\", '\n",
       "                             '\"serialization_format\": \"cloudpickle\", \"code\": '\n",
       "                             'null}}, \"model_uuid\": '\n",
       "                             '\"d62e8ec117604c9e823186084cc72083\", '\n",
       "                             '\"mlflow_version\": \"2.13.0\", \"model_size_bytes\": '\n",
       "                             '829}]',\n",
       " 'mlflow.runName': 'suave-asp-843',\n",
       " 'mlflow.source.name': '/opt/anaconda3/envs/mlops_env/lib/python3.9/site-packages/ipykernel_launcher.py',\n",
       " 'mlflow.source.type': 'LOCAL',\n",
       " 'mlflow.user': 'rajitsanghvi'}>, info=<RunInfo: artifact_uri='/Users/rajitsanghvi/Library/CloudStorage/OneDrive-OPEDGMBH/General/01_Github/MLOps/02-experiment-tracking/running_mlflow-example/artifacts_local/1/11d9c9f41cc2454a9077070d564d214a/artifacts', end_time=1716560461396, experiment_id='1', lifecycle_stage='active', run_id='11d9c9f41cc2454a9077070d564d214a', run_name='suave-asp-843', run_uuid='11d9c9f41cc2454a9077070d564d214a', start_time=1716560458372, status='FINISHED', user_id='rajitsanghvi'>, inputs=<RunInputs: dataset_inputs=[]>>"
      ]
     },
     "execution_count": 37,
     "metadata": {},
     "output_type": "execute_result"
    }
   ],
   "source": [
    "experiment = client.get_experiment_by_name(\"my-experiment-1\")\n",
    "runs = client.search_runs(\n",
    "        experiment_ids=experiment.experiment_id)\n",
    "runs[0]"
   ]
  },
  {
   "cell_type": "code",
   "execution_count": 38,
   "metadata": {},
   "outputs": [
    {
     "name": "stderr",
     "output_type": "stream",
     "text": [
      "Successfully registered model 'iris-classifier'.\n",
      "2024/05/24 16:34:05 INFO mlflow.store.model_registry.abstract_store: Waiting up to 300 seconds for model version to finish creation. Model name: iris-classifier, version 1\n",
      "Created version '1' of model 'iris-classifier'.\n"
     ]
    },
    {
     "data": {
      "text/plain": [
       "<ModelVersion: aliases=[], creation_timestamp=1716561245107, current_stage='None', description='', last_updated_timestamp=1716561245107, name='iris-classifier', run_id='11d9c9f41cc2454a9077070d564d214a', run_link='', source='/Users/rajitsanghvi/Library/CloudStorage/OneDrive-OPEDGMBH/General/01_Github/MLOps/02-experiment-tracking/running_mlflow-example/artifacts_local/1/11d9c9f41cc2454a9077070d564d214a/artifacts/models', status='READY', status_message='', tags={}, user_id='', version='1'>"
      ]
     },
     "execution_count": 38,
     "metadata": {},
     "output_type": "execute_result"
    }
   ],
   "source": [
    "run_id = \"11d9c9f41cc2454a9077070d564d214a\"\n",
    "mlflow.register_model(\n",
    "    model_uri=f\"runs:/{run_id}/models\",\n",
    "    name='iris-classifier'\n",
    ")"
   ]
  },
  {
   "cell_type": "code",
   "execution_count": null,
   "metadata": {},
   "outputs": [],
   "source": []
  }
 ],
 "metadata": {
  "kernelspec": {
   "display_name": "mlops_env",
   "language": "python",
   "name": "python3"
  },
  "language_info": {
   "codemirror_mode": {
    "name": "ipython",
    "version": 3
   },
   "file_extension": ".py",
   "mimetype": "text/x-python",
   "name": "python",
   "nbconvert_exporter": "python",
   "pygments_lexer": "ipython3",
   "version": "3.9.19"
  }
 },
 "nbformat": 4,
 "nbformat_minor": 2
}
